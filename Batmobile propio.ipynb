{
 "cells": [
  {
   "cell_type": "code",
   "execution_count": 154,
   "metadata": {},
   "outputs": [],
   "source": [
    "class Batmovile:\n",
    "    def __init__(self, Pilot, n_batrockets_loaded, n_pem_left, gas_liter_left): #pilot can be Batman or Robin\n",
    "        self.Pilot = Pilot\n",
    "        if self.Pilot == \"Batman\" or self.Pilot ==\"Robin\":\n",
    "            pass\n",
    "        else:\n",
    "            raise Exception(\"The available pilots are Batman and Robin only\")\n",
    "        \n",
    "        self.n_batrockets_loaded = n_batrockets_loaded\n",
    "       \n",
    "        aux = Rocket._rockets_counter()\n",
    "        if self.n_batrockets_loaded>aux:\n",
    "            raise Exception(\"There are less available batrockets in the arsenal than those tried to be loaded\")\n",
    "        \n",
    "        self.n_pem_left = n_pem_left\n",
    "        self.gas_liter_left = gas_liter_left \n",
    "\n",
    "#A method to accelerate the batmobile and drive for some distance, \n",
    "    def speed_reg(self, speed):\n",
    "        \n",
    "        if speed<=0 | speed>10:\n",
    "            print(\"Speed must be between 1 and 10\")           \n",
    "        else:\n",
    "            self.speed=speed\n",
    "            print(f\"Speed now is {self.speed}\")\n",
    "    \n",
    "#a method to activate the turbo and drive for some distance faster than the normal method,\n",
    "\n",
    "    def turbo_speed(self, turbo):\n",
    "        if isinstance(turbo, bool)==True:\n",
    "            self.turbo=turbo\n",
    "            print(\"Turbo is on. Speed now is 11\")\n",
    "            \n",
    "        else:\n",
    "            raise Exception(\"The available options for turbo are True and False only\")\n",
    "            \n",
    "#a method to launch a rocket to a Joker colleague, \n",
    "    def rocket_use(self):\n",
    "        if self.n_batrockets_loaded<=0:\n",
    "            print(\"Out of rockets, sorry\")\n",
    "        else:\n",
    "            self.n_batrockets_loaded-=1\n",
    "            print(f\"A batrocket has ben launched. {self.n_batrockets_loaded} batrocket launches left\")\n",
    "\n",
    "#a method to launch a pem use\n",
    "    def pem_use(self):\n",
    "        if self.n_pem_left<=0:\n",
    "            print(\"Out of PEM, sorry\")\n",
    "        else:\n",
    "            self.n_pem_left-=1\n",
    "            print(f\"A PEM has ben launched. {self.n_pem_left} PEM launches left\")\n",
    "        "
   ]
  },
  {
   "cell_type": "code",
   "execution_count": 155,
   "metadata": {},
   "outputs": [
    {
     "ename": "TypeError",
     "evalue": "_rockets_counter() missing 1 required positional argument: 'self'",
     "output_type": "error",
     "traceback": [
      "\u001b[1;31m---------------------------------------------------------------------------\u001b[0m",
      "\u001b[1;31mTypeError\u001b[0m                                 Traceback (most recent call last)",
      "\u001b[1;32m<ipython-input-155-8f8d8b89e328>\u001b[0m in \u001b[0;36m<module>\u001b[1;34m\u001b[0m\n\u001b[1;32m----> 1\u001b[1;33m \u001b[0mcar1\u001b[0m\u001b[1;33m=\u001b[0m\u001b[0mBatmovile\u001b[0m\u001b[1;33m(\u001b[0m\u001b[1;34m\"Robin\"\u001b[0m\u001b[1;33m,\u001b[0m \u001b[1;36m3\u001b[0m\u001b[1;33m,\u001b[0m \u001b[1;36m3\u001b[0m\u001b[1;33m,\u001b[0m \u001b[1;36m3\u001b[0m\u001b[1;33m)\u001b[0m\u001b[1;33m\u001b[0m\u001b[1;33m\u001b[0m\u001b[0m\n\u001b[0m",
      "\u001b[1;32m<ipython-input-154-223df2a6fb1b>\u001b[0m in \u001b[0;36m__init__\u001b[1;34m(self, Pilot, n_batrockets_loaded, n_pem_left, gas_liter_left)\u001b[0m\n\u001b[0;32m      9\u001b[0m         \u001b[0mself\u001b[0m\u001b[1;33m.\u001b[0m\u001b[0mn_batrockets_loaded\u001b[0m \u001b[1;33m=\u001b[0m \u001b[0mn_batrockets_loaded\u001b[0m\u001b[1;33m\u001b[0m\u001b[1;33m\u001b[0m\u001b[0m\n\u001b[0;32m     10\u001b[0m \u001b[1;33m\u001b[0m\u001b[0m\n\u001b[1;32m---> 11\u001b[1;33m         \u001b[0maux\u001b[0m \u001b[1;33m=\u001b[0m \u001b[0mRocket\u001b[0m\u001b[1;33m.\u001b[0m\u001b[0m_rockets_counter\u001b[0m\u001b[1;33m(\u001b[0m\u001b[1;33m)\u001b[0m\u001b[1;33m\u001b[0m\u001b[1;33m\u001b[0m\u001b[0m\n\u001b[0m\u001b[0;32m     12\u001b[0m         \u001b[1;32mif\u001b[0m \u001b[0mself\u001b[0m\u001b[1;33m.\u001b[0m\u001b[0mn_batrockets_loaded\u001b[0m\u001b[1;33m>\u001b[0m\u001b[0maux\u001b[0m\u001b[1;33m:\u001b[0m\u001b[1;33m\u001b[0m\u001b[1;33m\u001b[0m\u001b[0m\n\u001b[0;32m     13\u001b[0m             \u001b[1;32mraise\u001b[0m \u001b[0mException\u001b[0m\u001b[1;33m(\u001b[0m\u001b[1;34m\"There are less available batrockets in the arsenal than those tried to be loaded\"\u001b[0m\u001b[1;33m)\u001b[0m\u001b[1;33m\u001b[0m\u001b[1;33m\u001b[0m\u001b[0m\n",
      "\u001b[1;31mTypeError\u001b[0m: _rockets_counter() missing 1 required positional argument: 'self'"
     ]
    }
   ],
   "source": [
    "car1=Batmovile(\"Robin\", 3, 3, 3)"
   ]
  },
  {
   "cell_type": "code",
   "execution_count": 140,
   "metadata": {},
   "outputs": [
    {
     "name": "stdout",
     "output_type": "stream",
     "text": [
      "A PEM has ben launched. 1 PEM launches left\n"
     ]
    }
   ],
   "source": [
    "car1.pem_use()"
   ]
  },
  {
   "cell_type": "code",
   "execution_count": 141,
   "metadata": {},
   "outputs": [
    {
     "name": "stdout",
     "output_type": "stream",
     "text": [
      "A batrocket has ben launched. 1 batrocket launches left\n"
     ]
    }
   ],
   "source": [
    "car1.rocket_use()"
   ]
  },
  {
   "cell_type": "code",
   "execution_count": 142,
   "metadata": {},
   "outputs": [
    {
     "name": "stdout",
     "output_type": "stream",
     "text": [
      "Speed now is 4\n"
     ]
    }
   ],
   "source": [
    "car1.speed_reg(4)"
   ]
  },
  {
   "cell_type": "code",
   "execution_count": 153,
   "metadata": {},
   "outputs": [],
   "source": [
    "class Joker:\n",
    "    def __init__(self, KO, Weapon):\n",
    "        self.KO = False\n",
    "        self.Weapon= True\n",
    "    \n",
    "    def rocket_impact(self):\n",
    "        self.KO=True\n",
    "    \n",
    "    def PEM_impact(self):\n",
    "        self.Weapon=False\n",
    "        \n",
    "class Joker_Villian:\n",
    "    def __init__(self, KO, Weapon):\n",
    "        self.KO = False\n",
    "        self.Weapon= True\n",
    "    \n",
    "    def impact(self): \n",
    "        self.KO=True\n",
    "    \n",
    "    def PEM_impact(self):\n",
    "        self.Weapon=False\n",
    "    \n",
    "class Rocket:\n",
    "    def __init__(self, ammunition):\n",
    "        self.ammunition = ammunition  #defines the ammunition available in the arsenal\n",
    "        print(f\"The current batrocket ammunition in the arsenal is {self.ammunition}\")\n",
    "    \n",
    "    def _rockets_counter(self):\n",
    "        return self.ammunition\n",
    "        \n",
    "class PEM_pulse:\n",
    "    def __init__(self, ammunition):\n",
    "        self.ammunition = ammunition  #defines the ammunition available in the arsenal"
   ]
  },
  {
   "cell_type": "code",
   "execution_count": null,
   "metadata": {},
   "outputs": [],
   "source": [
    "class combat: "
   ]
  },
  {
   "cell_type": "code",
   "execution_count": null,
   "metadata": {},
   "outputs": [],
   "source": [
    "almac_rockets= Rocket(6)\n",
    "\n"
   ]
  }
 ],
 "metadata": {
  "kernelspec": {
   "display_name": "Python 3",
   "language": "python",
   "name": "python3"
  },
  "language_info": {
   "codemirror_mode": {
    "name": "ipython",
    "version": 3
   },
   "file_extension": ".py",
   "mimetype": "text/x-python",
   "name": "python",
   "nbconvert_exporter": "python",
   "pygments_lexer": "ipython3",
   "version": "3.8.3"
  }
 },
 "nbformat": 4,
 "nbformat_minor": 4
}
